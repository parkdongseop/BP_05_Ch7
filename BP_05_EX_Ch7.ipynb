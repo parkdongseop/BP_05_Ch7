{
  "nbformat": 4,
  "nbformat_minor": 0,
  "metadata": {
    "colab": {
      "provenance": [],
      "authorship_tag": "ABX9TyOQHL1NgSVetHGBxIiQ07Ci",
      "include_colab_link": true
    },
    "kernelspec": {
      "name": "python3",
      "display_name": "Python 3"
    },
    "language_info": {
      "name": "python"
    }
  },
  "cells": [
    {
      "cell_type": "markdown",
      "metadata": {
        "id": "view-in-github",
        "colab_type": "text"
      },
      "source": [
        "<a href=\"https://colab.research.google.com/github/parkdongseop/BP_05_Ch7/blob/main/BP_05_EX_Ch7.ipynb\" target=\"_parent\"><img src=\"https://colab.research.google.com/assets/colab-badge.svg\" alt=\"Open In Colab\"/></a>"
      ]
    },
    {
      "cell_type": "markdown",
      "source": [
        "1 눈사람을 그리는 함수를 작성하고 이 함수를 여러 번 호출하여서 랜덤한 위치에 눈사람을 그리는 프로그램을 작성하라. 아래 실행 결과와 최대한 비슷하게 작성해보자."
      ],
      "metadata": {
        "id": "7NH7ZOw6TS4U"
      }
    },
    {
      "cell_type": "code",
      "execution_count": null,
      "metadata": {
        "id": "6d5VHubtOfPh"
      },
      "outputs": [],
      "source": [
        "def draw_snowman(x, y):\n",
        " \n",
        "#눈사람 1단   \n",
        "    t.up()\n",
        "    t.goto(x,y+110)\n",
        "    t.down()\n",
        " \n",
        "    t.begin_fill()\n",
        "    t.circle(35)\n",
        "    t.end_fill()\n",
        " \n",
        "#눈사람 2단\n",
        "    t.up()\n",
        "    t.goto(x,y+80)\n",
        "    t.down()\n",
        " \n",
        "    t.lt(20)\n",
        "    t.fd(90); t.fd(-90)\n",
        "    t.lt(115)\n",
        "    t.fd(90); t.fd(-90)\n",
        "    t.seth(0) #t.seth(n) = 거북이가 특정 각도를 바라보도록 회전\n",
        " \n",
        "    t.begin_fill()\n",
        "    t.circle(25)\n",
        "    t.end_fill()\n",
        "     \n",
        "#눈사람 3단\n",
        "    t.up()\n",
        "    t.goto(x,y)\n",
        "    t.down()\n",
        " \n",
        "    t.begin_fill()\n",
        "    t.circle(50)\n",
        "    t.end_fill()\n",
        " \n",
        " \n",
        "\n",
        "# main\n",
        "import turtle\n",
        "t = turtle.Turtle()\n",
        "s = turtle.Screen()\n",
        " \n",
        "t.color('black', 'white')\n",
        "s.bgcolor('skyblue')\n",
        " \n",
        "for i in range(3):\n",
        "    draw_snowman(200*i-200,0)"
      ]
    }
  ]
}