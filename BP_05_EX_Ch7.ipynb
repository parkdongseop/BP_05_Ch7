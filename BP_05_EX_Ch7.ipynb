{
  "nbformat": 4,
  "nbformat_minor": 0,
  "metadata": {
    "colab": {
      "provenance": [],
      "authorship_tag": "ABX9TyOFTFoHl30B0k34OM+Run75",
      "include_colab_link": true
    },
    "kernelspec": {
      "name": "python3",
      "display_name": "Python 3"
    },
    "language_info": {
      "name": "python"
    }
  },
  "cells": [
    {
      "cell_type": "markdown",
      "metadata": {
        "id": "view-in-github",
        "colab_type": "text"
      },
      "source": [
        "<a href=\"https://colab.research.google.com/github/parkdongseop/BP_05_Ch7/blob/main/BP_05_EX_Ch7.ipynb\" target=\"_parent\"><img src=\"https://colab.research.google.com/assets/colab-badge.svg\" alt=\"Open In Colab\"/></a>"
      ]
    },
    {
      "cell_type": "markdown",
      "source": [
        "1. 눈사람을 그리는 함수를 작성하고 이 함수를 여러 번 호출하여서 랜덤한 위치에 눈사람을 그리는 프로그램을 작성하라. 아래 실행 결과와 최대한 비슷하게 작성해보자."
      ],
      "metadata": {
        "id": "7NH7ZOw6TS4U"
      }
    },
    {
      "cell_type": "code",
      "execution_count": null,
      "metadata": {
        "id": "6d5VHubtOfPh"
      },
      "outputs": [],
      "source": [
        "def draw_snowman(x, y):\n",
        " \n",
        "#눈사람 1단   \n",
        "    t.up()\n",
        "    t.goto(x,y+110)\n",
        "    t.down()\n",
        " \n",
        "    t.begin_fill()\n",
        "    t.circle(35)\n",
        "    t.end_fill()\n",
        " \n",
        "#눈사람 2단\n",
        "    t.up()\n",
        "    t.goto(x,y+80)\n",
        "    t.down()\n",
        " \n",
        "    t.lt(20)\n",
        "    t.fd(90); t.fd(-90)\n",
        "    t.lt(115)\n",
        "    t.fd(90); t.fd(-90)\n",
        "    t.seth(0) #t.seth(n) = 거북이가 특정 각도를 바라보도록 회전\n",
        " \n",
        "    t.begin_fill()\n",
        "    t.circle(25)\n",
        "    t.end_fill()\n",
        "     \n",
        "#눈사람 3단\n",
        "    t.up()\n",
        "    t.goto(x,y)\n",
        "    t.down()\n",
        " \n",
        "    t.begin_fill()\n",
        "    t.circle(50)\n",
        "    t.end_fill()\n",
        " \n",
        " \n",
        "\n",
        "# main\n",
        "import turtle\n",
        "t = turtle.Turtle()\n",
        "t.shape((\"turtle\"))\n",
        "s = turtle.Screen()\n",
        " \n",
        "t.color('black', 'white')\n",
        "s.bgcolor('skyblue')\n",
        " \n",
        "for i in range(3):\n",
        "    draw_snowman(200*i-200,0)"
      ]
    },
    {
      "cell_type": "markdown",
      "source": [
        "2. 6각형을 그리는 draw_hexa() 함수를 작성하고 이 함수를 호출하여서 다음과 같은 벌집 모양을 화면에 그려보자."
      ],
      "metadata": {
        "id": "bnYgEJ9HWKuk"
      }
    },
    {
      "cell_type": "code",
      "source": [
        "def draw_hexa():\n",
        "    for i in range(6):\n",
        "        t.fd(50)\n",
        "        t.rt(60)\n",
        " \n",
        "#main     \n",
        "import turtle\n",
        "t = turtle.Turtle()\n",
        "t.shape(\"turtle\")\n",
        "\n",
        "for i in range(6):\n",
        "    t.fd(50)\n",
        "    t.lt(60)\n",
        "    draw_hexa()"
      ],
      "metadata": {
        "id": "CzCzqvpBXyCI"
      },
      "execution_count": null,
      "outputs": []
    },
    {
      "cell_type": "markdown",
      "source": [
        "3. 함수 f(x)=x^2+1 을 계산하는 함수를 작성하고 이 함수를 이용하여 화면에 f(x)를 그려보자."
      ],
      "metadata": {
        "id": "qIdHyvuEWttS"
      }
    },
    {
      "cell_type": "code",
      "source": [
        "def draw_f():\n",
        "    for i in range(150):\n",
        "        t.goto(i,(i**2+1)*0.01)\n",
        " \n",
        " \n",
        "#main \n",
        "import turtle\n",
        "t = turtle.Turtle()\n",
        "t.shape(\"turtle\")\n",
        "\n",
        "# X선 \n",
        "t.fd(250)\n",
        "t.fd(-250)\n",
        "t.lt(90)\n",
        " \n",
        "# Y선\n",
        "t.fd(250)\n",
        "t.fd(-250)\n",
        "t.rt(90)\n",
        " \n",
        "draw_f()"
      ],
      "metadata": {
        "id": "NsM8wOQiX-ER"
      },
      "execution_count": null,
      "outputs": []
    },
    {
      "cell_type": "markdown",
      "source": [
        "4. 터틀 그래픽에서 거북이를 움직이지 않고 선을 긋는 함수 draw_line()을 정의하고 이것을 이용하여 다음과 같은 거미줄과 같은 모양을 그려보자. 거북이는 항상 중앙에 위치한다."
      ],
      "metadata": {
        "id": "Mztx4fuiW1tE"
      }
    },
    {
      "cell_type": "code",
      "source": [
        "def draw_line():\n",
        "    t.fd(100)\n",
        "    t.fd(-100)\n",
        "\n",
        "#main\n",
        "import turtle\n",
        "t = turtle.Turtle()\n",
        "t.shape(\"turtle\")\n",
        "\n",
        "for i in range(12):\n",
        "    draw_line()\n",
        "    t.lt(30)"
      ],
      "metadata": {
        "id": "ZCuSm7HSYFNR"
      },
      "execution_count": null,
      "outputs": []
    },
    {
      "cell_type": "markdown",
      "source": [
        "5. 다음과 같이 이름을 받아서 생일 축하 노래를 출력하는 함수 happyBirtday()를 작성하고 테스트하시오."
      ],
      "metadata": {
        "id": "ogtD9ZwwXLdb"
      }
    },
    {
      "cell_type": "code",
      "source": [
        "def happyBirthday(string):\n",
        "    print(\"=====================\")\n",
        "    print(\"Happy Birthday to you!\")\n",
        "    print(\"Happy Birthday to you!\")\n",
        "    print(\"Happy Birthday, dear \" + string)\n",
        "    print(\"Happy Birthday to you!\")\n",
        " \n",
        "happyBirthday(input(\"이름 : \"))"
      ],
      "metadata": {
        "colab": {
          "base_uri": "https://localhost:8080/"
        },
        "id": "DIiCY65SYQFj",
        "outputId": "aef6ce6e-f788-4a5d-faeb-56bcf7d1f19c"
      },
      "execution_count": 1,
      "outputs": [
        {
          "output_type": "stream",
          "name": "stdout",
          "text": [
            "이름 : 홍길동\n",
            "=====================\n",
            "Happy Birthday to you!\n",
            "Happy Birthday to you!\n",
            "Happy Birthday, dear 홍길동\n",
            "Happy Birthday to you!\n"
          ]
        }
      ]
    },
    {
      "cell_type": "markdown",
      "source": [
        "6. 사용자로부터 2개의 정수를 받아서 수학 문제를 만들어서 화면에 출력하는 함수를 작성하고 테스트하시오."
      ],
      "metadata": {
        "id": "FEVTeb5QXOUd"
      }
    },
    {
      "cell_type": "code",
      "source": [
        "def MathQ():\n",
        "    a = int(input(\"첫 번째 정수: \"))\n",
        "    b = int(input(\"두 번째 정수: \"))\n",
        "    print(\"정수 %d+%d의 합은? \" %(a, b))\n",
        " \n",
        "MathQ()"
      ],
      "metadata": {
        "colab": {
          "base_uri": "https://localhost:8080/"
        },
        "id": "cBKeZFmhYcgC",
        "outputId": "d527f013-4adf-49f5-9e23-0b24d7b4f0f2"
      },
      "execution_count": 2,
      "outputs": [
        {
          "output_type": "stream",
          "name": "stdout",
          "text": [
            "첫 번째 정수: 10\n",
            "두 번째 정수: 15\n",
            "정수 10+15의 합은? \n"
          ]
        }
      ]
    },
    {
      "cell_type": "markdown",
      "source": [
        "7. 파이를 나타내는 PI=3.14를 전역 변수로 하여 원의 면적을 계산하는 함수 circleArea(radius)과 원의 둘레를 계산하는 함수 circleCircumference(radius)를 작성하고 테스트하라."
      ],
      "metadata": {
        "id": "XSHUOjfKXX9S"
      }
    },
    {
      "cell_type": "code",
      "source": [
        "PI = 3.14159265358979 \n",
        " \n",
        "def circleArea(radius):\n",
        "    return PI*(radius**2)\n",
        " \n",
        "def circleCircumference(radius):\n",
        "    return PI*2*radius\n",
        " \n",
        "print(\"반지름이 5인 원의 면적 : \", circleArea(5))\n",
        "print(\"반지름이 5인 원의 둘레 : \", circleCircumference(5))"
      ],
      "metadata": {
        "colab": {
          "base_uri": "https://localhost:8080/"
        },
        "id": "qfIYLfrXYhd6",
        "outputId": "9169bd02-8374-4269-deaa-14dcb4d59043"
      },
      "execution_count": 4,
      "outputs": [
        {
          "output_type": "stream",
          "name": "stdout",
          "text": [
            "반지름이 5인 원의 면적 :  78.53981633974475\n",
            "반지름이 5인 원의 둘레 :  31.4159265358979\n"
          ]
        }
      ]
    },
    {
      "cell_type": "markdown",
      "source": [
        "8. 덧셈, 뺄셈, 곱셈, 나눗셈을 수행하는 함수를 각각 작성하고 테스트하라."
      ],
      "metadata": {
        "id": "1yJmx9w8Xc8q"
      }
    },
    {
      "cell_type": "code",
      "source": [
        "def add(a,b):\n",
        "    return a+b\n",
        " \n",
        "def sub(a,b):\n",
        "    return a-b\n",
        " \n",
        "def mul(a,b):\n",
        "    return a*b\n",
        " \n",
        "def div(a,b):\n",
        "    return a/b\n",
        " \n",
        " \n",
        "#main \n",
        "a = int(input(\"첫 번째 정수: \"))\n",
        "b = int(input(\"두 번째 정수: \"))\n",
        " \n",
        "print(\"==================\")\n",
        "print(\"(%d + %d) = %d\" %(a,b,add(a,b)))\n",
        "print(\"(%d - %d) = %d\" %(a,b,sub(a,b)))\n",
        "print(\"(%d * %d) = %d\" %(a,b,mul(a,b)))\n",
        "print(\"(%d / %d) = %d\" %(a,b,div(a,b)))"
      ],
      "metadata": {
        "colab": {
          "base_uri": "https://localhost:8080/"
        },
        "id": "QP33v_2aXCha",
        "outputId": "44553ba2-5e13-4d35-db8f-af24f4c46876"
      },
      "execution_count": 5,
      "outputs": [
        {
          "output_type": "stream",
          "name": "stdout",
          "text": [
            "첫 번째 정수: 15\n",
            "두 번째 정수: 3\n",
            "==================\n",
            "(15 + 3) = 18\n",
            "(15 - 3) = 12\n",
            "(15 * 3) = 45\n",
            "(15 / 3) = 5\n"
          ]
        }
      ]
    }
  ]
}